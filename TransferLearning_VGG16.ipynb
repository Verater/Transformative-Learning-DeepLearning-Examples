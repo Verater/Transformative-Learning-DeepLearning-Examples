
{
  "nbformat": 4,
  "nbformat_minor": 0,
  "metadata": {
    "colab": {
      "name": "TransferLearning_VGG16.ipynb",
      "provenance": [],
      "authorship_tag": "ABX9TyMKmfPSaIqRBkESyTPuXkkX",
      "include_colab_link": true
    },
    "kernelspec": {
      "name": "python3",
      "display_name": "Python 3"
    },
    "language_info": {
      "name": "python"
    },
    "accelerator": "GPU"
  },
  "cells": [
    {
      "cell_type": "markdown",