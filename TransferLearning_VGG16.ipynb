
{
  "nbformat": 4,
  "nbformat_minor": 0,
  "metadata": {
    "colab": {
      "name": "TransferLearning_VGG16.ipynb",
      "provenance": [],
      "authorship_tag": "ABX9TyMKmfPSaIqRBkESyTPuXkkX",
      "include_colab_link": true
    },
    "kernelspec": {
      "name": "python3",
      "display_name": "Python 3"
    },
    "language_info": {
      "name": "python"
    },
    "accelerator": "GPU"
  },
  "cells": [
    {
      "cell_type": "markdown",
      "metadata": {
        "id": "view-in-github",
        "colab_type": "text"
      },
      "source": [
        "<a href=\"https://colab.research.google.com/github/Machine-Learning-Moron/Transfer-Learning-Practice-Notebooks/blob/main/TransferLearning_VGG16.ipynb\" target=\"_parent\"><img src=\"https://colab.research.google.com/assets/colab-badge.svg\" alt=\"Open In Colab\"/></a>"
      ]
    },
    {
      "cell_type": "code",
      "metadata": {
        "id": "5BaAF8xjRCAX",
        "colab": {
          "base_uri": "https://localhost:8080/"
        },
        "outputId": "f80de3c7-1ebe-418d-a71a-c410e57b21fb"
      },
      "source": [
        "from google.colab import drive\n",
        "\n",
        "drive.mount('/content/gdrive')"
      ],
      "execution_count": 2,
      "outputs": [
        {
          "output_type": "stream",
          "text": [
            "Drive already mounted at /content/gdrive; to attempt to forcibly remount, call drive.mount(\"/content/gdrive\", force_remount=True).\n"
          ],
          "name": "stdout"
        }
      ]
    },
    {
      "cell_type": "code",
      "metadata": {
        "id": "SxvwmQDeRoaN"
      },
      "source": [
        "import os\n",
        "os.environ['KAGGLE_CONFIG_DIR'] = '/content/gdrive/MyDrive/kaggleflowersdata'"
      ],
      "execution_count": 4,
      "outputs": []
    },
    {
      "cell_type": "code",
      "metadata": {
        "colab": {
          "base_uri": "https://localhost:8080/"
        },
        "id": "WzHF3oOLSOB1",
        "outputId": "fc6c55c0-a0d8-40f2-9ad9-88dc5d8ae11c"
      },
      "source": [
        "%cd /content/gdrive/MyDrive/kaggleflowersdata"
      ],
      "execution_count": 5,
      "outputs": [
        {
          "output_type": "stream",
          "text": [
            "/content/gdrive/MyDrive/kaggleflowersdata\n"
          ],
          "name": "stdout"
        }
      ]
    },
    {
      "cell_type": "code",
      "metadata": {
        "colab": {
          "base_uri": "https://localhost:8080/"
        },
        "id": "7SntSmI6SW20",
        "outputId": "b8e5a3a3-7b4b-4859-a680-252a0a90179c"
      },
      "source": [
        "!ls"
      ],
      "execution_count": 6,
      "outputs": [
        {
          "output_type": "stream",
          "text": [
            "flowers-recognition  kaggle.json\n"
          ],
          "name": "stdout"
        }
      ]
    },
    {
      "cell_type": "code",
      "metadata": {
        "colab": {
          "base_uri": "https://localhost:8080/"
        },
        "id": "YMytvZW6S9Ta",
        "outputId": "7eebad65-3a74-4ada-fc0a-840bd6915df2"
      },
      "source": [
        "!kaggle datasets download -d alxmamaev/flowers-recognition"
      ],
      "execution_count": 7,
      "outputs": [
        {
          "output_type": "stream",
          "text": [
            "Downloading flowers-recognition.zip to /content/gdrive/MyDrive/kaggleflowersdata\n",
            " 96% 434M/450M [00:04<00:00, 86.6MB/s]\n",
            "100% 450M/450M [00:05<00:00, 92.8MB/s]\n"
          ],
          "name": "stdout"
        }
      ]
    },
    {
      "cell_type": "code",
      "metadata": {
        "colab": {
          "base_uri": "https://localhost:8080/"
        },
        "id": "77-8rVshTjJs",
        "outputId": "053d1e74-cde8-4796-a5b5-53957f871735"
      },
      "source": [
        "!mkdir flowers-recognition\n",
        "!mv flowers-recognition.zip flowers-recognition"
      ],
      "execution_count": 8,
      "outputs": [
        {
          "output_type": "stream",
          "text": [
            "mkdir: cannot create directory ‘flowers-recognition’: File exists\n"
          ],
          "name": "stdout"
        }
      ]
    },
    {
      "cell_type": "code",
      "metadata": {
        "colab": {
          "base_uri": "https://localhost:8080/"
        },
        "id": "CBfn6NFeUGEY",
        "outputId": "39cb7084-4250-405a-bbe6-fc700fd98ce6"
      },
      "source": [
        "%cd flowers-recognition/"
      ],
      "execution_count": 9,
      "outputs": [
        {
          "output_type": "stream",
          "text": [
            "/content/gdrive/My Drive/kaggleflowersdata/flowers-recognition\n"
          ],
          "name": "stdout"
        }
      ]
    },
    {
      "cell_type": "code",
      "metadata": {
        "id": "B6aCzXssxdt0"
      },
      "source": [
        "# !unzip flowers-recognition.zip"
      ],
      "execution_count": 10,
      "outputs": []
    },
    {
      "cell_type": "code",
      "metadata": {
        "id": "yqczYqEaUVIs"
      },
      "source": [
        "# ignore warnings\n",
        "import warnings\n",
        "warnings.filterwarnings('ignore')\n",
        "\n",
        "import cv2       # open CV\n",
        "import os\n",
        "import tensorflow as tf\n",
        "import keras\n",
        "# Data manipulation & visulation\n",
        "import numpy as np\n",
        "import pandas as pd\n",
        "%matplotlib inline\n",
        "import matplotlib.pyplot as plt\n",
        "import seaborn as sns\n",
        "\n",
        "# data augmentation\n",
        "from keras.preprocessing.image import ImageDataGenerator\n",
        "\n",
        "#model creation and evaluation \n",
        "from sklearn.model_selection import train_test_split\n",
        "from sklearn.metrics import confusion_matrix, accuracy_score, recall_score, classification_report\n",
        "from sklearn.preprocessing import LabelEncoder\n",
        "\n",
        "from keras.layers import Dense\n",
        "from keras.layers import Flatten, Activation\n",
        "from keras.layers import Conv2D, MaxPooling2D\n",
        "from keras.optimizers import Adam, RMSprop, SGD\n",
        "from keras.utils.np_utils import to_categorical\n",
        "from keras.models import Sequential\n",
        "from keras.applications.vgg16 import VGG16\n",
        "from keras.callbacks import ReduceLROnPlateau\n",
        "\n",
        "\n",
        "import random as rn\n",
        "from tqdm import tqdm"
      ],
      "execution_count": 11,
      "outputs": []
    },
    {
      "cell_type": "code",
      "metadata": {
        "colab": {
          "base_uri": "https://localhost:8080/"
        },
        "id": "f7k9J2yBVdmV",
        "outputId": "940f43cb-14aa-4f3a-8fd0-67fc28053a71"
      },
      "source": [
        "print(os.listdir('/content/gdrive/MyDrive/kaggleflowersdata/flowers-recognition/flowers'))"
      ],
      "execution_count": 12,
      "outputs": [
        {
          "output_type": "stream",
          "text": [
            "['daisy', 'dandelion', 'flowers', 'rose', 'sunflower', 'tulip']\n"
          ],
          "name": "stdout"
        }
      ]
    },
    {
      "cell_type": "code",
      "metadata": {
        "id": "A-GfA6gCXiJf"
      },
      "source": [
        "Daisy_flower_dir = '/content/gdrive/MyDrive/kaggleflowersdata/flowers-recognition/flowers/daisy'\n",
        "Sunflower_flower_dir = '/content/gdrive/MyDrive/kaggleflowersdata/flowers-recognition/flowers/sunflower'\n",
        "Tulip_flower_dir = '/content/gdrive/MyDrive/kaggleflowersdata/flowers-recognition/flowers/tulip'\n",
        "Dandelion_flower_dir = '/content/gdrive/MyDrive/kaggleflowersdata/flowers-recognition/flowers/dandelion'\n",
        "Rose_flower_dir = '/content/gdrive/MyDrive/kaggleflowersdata/flowers-recognition/flowers/rose'"
      ],
      "execution_count": 13,
      "outputs": []
    },
    {
      "cell_type": "code",
      "metadata": {
        "id": "X_6uFGCOYGtJ"
      },
      "source": [
        "images = []\n",
        "labels = []\n",
        "img_size = 150\n",
        "\n",
        "def image_data(flower_name, DIR):\n",
        "    for i in tqdm(os.listdir(DIR)):\n",
        "        try:\n",
        "            \n",
        "            path = os.path.join(DIR,i)\n",
        "            img = cv2.imread(path)\n",
        "            img = cv2.resize(img, (img_size, img_size))\n",
        "            img = cv2.cvtColor(img,cv2.COLOR_BGR2RGB)\n",
        "        \n",
        "            images.append(np.array(img))\n",
        "            labels.append(str(flower_name))\n",
        "            \n",
        "        except:\n",
        "            print(path)\n",
        "            "
      ],
      "execution_count": 14,
      "outputs": []
    },
    {
      "cell_type": "code",
      "metadata": {
        "colab": {
          "base_uri": "https://localhost:8080/"
        },
        "id": "sLp_FwR-YY8F",
        "outputId": "f9c5142f-2d37-47ee-aa1f-e5e209f0f0f4"
      },
      "source": [
        "image_data('Daisy', Daisy_flower_dir)\n",
        "len(images)"
      ],
      "execution_count": 15,
      "outputs": [
        {
          "output_type": "stream",
          "text": [
            "100%|██████████| 769/769 [04:54<00:00,  2.61it/s]\n"
          ],
          "name": "stderr"
        },
        {
          "output_type": "execute_result",
          "data": {
            "text/plain": [
              "769"
            ]
          },
          "metadata": {
            "tags": []
          },
          "execution_count": 15
        }
      ]
    },
    {
      "cell_type": "code",
      "metadata": {
        "colab": {
          "base_uri": "https://localhost:8080/"
        },
        "id": "Tt4Cg2HWYgr-",
        "outputId": "9a9834ec-61c6-4897-9b7c-f2afaf785ed8"
      },
      "source": [
        "image_data('Sunflower', Sunflower_flower_dir)\n",
        "len(images)"
      ],
      "execution_count": 16,
      "outputs": [
        {
          "output_type": "stream",
          "text": [
            "100%|██████████| 734/734 [05:23<00:00,  2.27it/s]\n"
          ],
          "name": "stderr"
        },
        {
          "output_type": "execute_result",
          "data": {
            "text/plain": [
              "1503"
            ]
          },
          "metadata": {
            "tags": []
          },
          "execution_count": 16
        }
      ]
    },
    {
      "cell_type": "code",
      "metadata": {
        "colab": {
          "base_uri": "https://localhost:8080/"
        },
        "id": "5WV5AP60Yp_j",
        "outputId": "3782b83c-d42a-4d1f-c66e-79c6e9a35b10"
      },
      "source": [
        "image_data('Tulip', Tulip_flower_dir)\n",
        "len(images)"
      ],
      "execution_count": 17,
      "outputs": [
        {
          "output_type": "stream",
          "text": [
            "100%|██████████| 984/984 [06:33<00:00,  2.50it/s]\n"
          ],
          "name": "stderr"
        },
        {
          "output_type": "execute_result",
          "data": {
            "text/plain": [
              "2487"
            ]
          },
          "metadata": {
            "tags": []
          },
          "execution_count": 17
        }
      ]
    },
    {
      "cell_type": "code",
      "metadata": {
        "colab": {
          "base_uri": "https://localhost:8080/"
        },
        "id": "yMig90tyYu20",
        "outputId": "d6e57e28-d731-44ff-d0ff-4adf01f4ed04"
      },
      "source": [
        "image_data('Dandelion', Dandelion_flower_dir)\n",
        "len(images)"
      ],
      "execution_count": 18,
      "outputs": [
        {
          "output_type": "stream",
          "text": [
            " 83%|████████▎ | 879/1055 [05:32<01:13,  2.41it/s]"
          ],
          "name": "stderr"
        },
        {
          "output_type": "stream",
          "text": [
            "/content/gdrive/MyDrive/kaggleflowersdata/flowers-recognition/flowers/dandelion/flickr.py\n"
          ],
          "name": "stdout"
        },
        {
          "output_type": "stream",
          "text": [
            " 86%|████████▌ | 908/1055 [05:43<00:53,  2.73it/s]"
          ],
          "name": "stderr"
        },
        {
          "output_type": "stream",
          "text": [
            "/content/gdrive/MyDrive/kaggleflowersdata/flowers-recognition/flowers/dandelion/run_me.py\n"
          ],
          "name": "stdout"
        },
        {
          "output_type": "stream",
          "text": [
            " 94%|█████████▎| 987/1055 [06:19<00:29,  2.28it/s]"
          ],
          "name": "stderr"
        },
        {
          "output_type": "stream",
          "text": [
            "/content/gdrive/MyDrive/kaggleflowersdata/flowers-recognition/flowers/dandelion/flickr.pyc\n"
          ],
          "name": "stdout"
        },
        {
          "output_type": "stream",
          "text": [
            "100%|██████████| 1055/1055 [06:49<00:00,  2.58it/s]\n"
          ],
          "name": "stderr"
        },
        {
          "output_type": "execute_result",
          "data": {
            "text/plain": [
              "3539"
            ]
          },
          "metadata": {
            "tags": []
          },
          "execution_count": 18
        }
      ]
    },
    {
      "cell_type": "code",
      "metadata": {
        "colab": {
          "base_uri": "https://localhost:8080/"
        },
        "id": "6fYvZYxUYzzH",
        "outputId": "be6d4940-b6ff-498f-fdc8-615360b2b286"
      },
      "source": [
        "image_data('Rose', Rose_flower_dir)\n",
        "len(images)"
      ],
      "execution_count": 19,
      "outputs": [
        {
          "output_type": "stream",
          "text": [
            "100%|██████████| 784/784 [05:21<00:00,  2.44it/s]\n"
          ],
          "name": "stderr"
        },
        {
          "output_type": "execute_result",
          "data": {
            "text/plain": [
              "4323"
            ]
          },
          "metadata": {
            "tags": []
          },
          "execution_count": 19
        }
      ]
    },
    {
      "cell_type": "code",
      "metadata": {
        "colab": {