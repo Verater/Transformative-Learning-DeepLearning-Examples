
{
  "nbformat": 4,
  "nbformat_minor": 0,
  "metadata": {
    "colab": {
      "name": "TransferLearning_VGG16.ipynb",