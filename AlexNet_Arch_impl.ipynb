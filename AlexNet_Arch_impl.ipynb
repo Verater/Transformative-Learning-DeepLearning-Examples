
{
  "nbformat": 4,
  "nbformat_minor": 0,
  "metadata": {
    "colab": {
      "name": "AlexNet_Arch_impl.ipynb",
      "provenance": [],
      "collapsed_sections": [],
      "authorship_tag": "ABX9TyPrtyYLOL8gpCN8NRgzz4lN",
      "include_colab_link": true
    },