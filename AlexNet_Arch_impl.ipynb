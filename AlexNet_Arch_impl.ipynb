
{
  "nbformat": 4,
  "nbformat_minor": 0,
  "metadata": {
    "colab": {
      "name": "AlexNet_Arch_impl.ipynb",
      "provenance": [],